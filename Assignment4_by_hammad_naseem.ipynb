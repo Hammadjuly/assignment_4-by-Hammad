{
  "cells": [
    {
      "cell_type": "markdown",
      "id": "dbeb14e1",
      "metadata": {
        "id": "dbeb14e1"
      },
      "source": [
        "---\n",
        "\n",
        "## Advanced Regular Expression Assignments\n",
        "\n",
        "### Assignment 1: Extracting Phone Numbers\n",
        "\n",
        "**Raw Text:**\n",
        "Extract all valid Pakistani phone numbers from a given text.\n",
        "\n",
        "**Example:**\n",
        "```\n",
        "Text: Please contact me at 0301-1234567 or 042-35678901 for further details.\n",
        "```\n",
        "\n"
      ]
    },
    {
      "cell_type": "code",
      "execution_count": 3,
      "id": "b830b03e",
      "metadata": {
        "colab": {
          "base_uri": "https://localhost:8080/"
        },
        "id": "b830b03e",
        "outputId": "fced5e7c-5e67-41a0-d24e-f67e7defa61a"
      },
      "outputs": [
        {
          "output_type": "execute_result",
          "data": {
            "text/plain": [
              "['0301-1234567', '042-35678901']"
            ]
          },
          "metadata": {},
          "execution_count": 3
        }
      ],
      "source": [
        "import re\n",
        "text_1= \"\"\"\n",
        "Please contact me at 0301-1234567 or 042-35678901 for further details.\n",
        "\"\"\"\n",
        "pattern_1 = r\"\\b(\\d{3,4}\\-\\d{7,8})\\b\"\n",
        "phone_number= re.findall(pattern_1, text_1, re.MULTILINE)\n",
        "phone_number"
      ]
    },
    {
      "cell_type": "markdown",
      "id": "dd34fb2f",
      "metadata": {
        "id": "dd34fb2f"
      },
      "source": [
        "### Assignment 2: Validating Email Addresses\n",
        "\n",
        "**Raw Text:**\n",
        "Validate email addresses according to Pakistani domain extensions (.pk).\n",
        "\n",
        "**Example:**\n",
        "```\n",
        "Text: Contact us at info@example.com or support@domain.pk for assistance.\n",
        "```\n",
        "\n"
      ]
    },
    {
      "cell_type": "code",
      "execution_count": 4,
      "id": "64cf6883",
      "metadata": {
        "colab": {
          "base_uri": "https://localhost:8080/"
        },
        "id": "64cf6883",
        "outputId": "a3e28660-e0b2-4c0a-c1b8-36529d55cdda"
      },
      "outputs": [
        {
          "output_type": "execute_result",
          "data": {
            "text/plain": [
              "['support@domain.pk']"
            ]
          },
          "metadata": {},
          "execution_count": 4
        }
      ],
      "source": [
        "text_2= \"\"\"\n",
        "Contact us at info@example.com or support@domain.pk for assistance.\n",
        "\"\"\"\n",
        "pattern_2 = r\"\\b([\\w\\-\\.]+@[\\w]+\\.pk)\\b\"\n",
        "\n",
        "pakistani_email = re.findall(pattern_2,text_2,re.MULTILINE)\n",
        "pakistani_email"
      ]
    },
    {
      "cell_type": "markdown",
      "id": "0bd2f6f3",
      "metadata": {
        "id": "0bd2f6f3"
      },
      "source": [
        "### Assignment 3: Extracting CNIC Numbers\n",
        "\n",
        "**Raw Text:**\n",
        "Extract all Pakistani CNIC (Computerized National Identity Card) numbers from a given text.\n",
        "\n",
        "**Example:**\n",
        "```\n",
        "Text: My CNIC is 12345-6789012-3 and another one is 34567-8901234-5.\n",
        "```\n"
      ]
    },
    {
      "cell_type": "code",
      "execution_count": null,
      "id": "b825834e",
      "metadata": {
        "id": "b825834e",
        "outputId": "7e147055-478c-4300-e59d-9c99b79eda4f"
      },
      "outputs": [
        {
          "data": {
            "text/plain": [
              "['12345-6789012-3', '34567-8901234-5']"
            ]
          },
          "execution_count": 3,
          "metadata": {},
          "output_type": "execute_result"
        }
      ],
      "source": [
        "text_3 = \"\"\"\n",
        "My CNIC is 12345-6789012-3 and another one is 34567-8901234-5.\n",
        "\"\"\"\n",
        "pattern_3 = r\"\\b(\\d{5}\\-\\d{7}\\-\\d)\"\n",
        "pakistani_cnic = re.findall(pattern_3,text_3,re.MULTILINE)\n",
        "pakistani_cnic"
      ]
    },
    {
      "cell_type": "markdown",
      "id": "f21a0a2f",
      "metadata": {
        "id": "f21a0a2f"
      },
      "source": [
        "\n",
        "### Assignment 4: Identifying Urdu Words\n",
        "\n",
        "**Raw Text:**\n",
        "Identify and extract Urdu words from a mixed English-Urdu text.\n",
        "\n",
        "**Example:**\n",
        "```\n",
        "Text: یہ sentence میں کچھ English words بھی ہیں۔\n",
        "```\n",
        "\n"
      ]
    },
    {
      "cell_type": "code",
      "execution_count": 5,
      "id": "b4263cfb",
      "metadata": {
        "colab": {
          "base_uri": "https://localhost:8080/"
        },
        "id": "b4263cfb",
        "outputId": "dcb9d74d-7387-4f06-f0d6-6effbf813a82"
      },
      "outputs": [
        {
          "output_type": "execute_result",
          "data": {
            "text/plain": [
              "['یہ', 'میں', 'کچھ', 'بھی', 'ہیں']"
            ]
          },
          "metadata": {},
          "execution_count": 5
        }
      ],
      "source": [
        "text_4 = \"\"\"\n",
        " یہ sentence میں کچھ English words بھی ہیں۔\n",
        "\"\"\"\n",
        "\n",
        "pattern_4 = r\"\\b([^\\s\\-a-zA-Z]+\\b)\"\n",
        "\n",
        "urdu_text = re.findall(pattern_4,text_4,re.MULTILINE)\n",
        "urdu_text"
      ]
    },
    {
      "cell_type": "markdown",
      "id": "421405e8",
      "metadata": {
        "id": "421405e8"
      },
      "source": [
        "### Assignment 5: Finding Dates\n",
        "\n",
        "**Raw Text:**\n",
        "Find and extract dates in the format DD-MM-YYYY from a given text.\n",
        "\n",
        "**Example:**\n",
        "```\n",
        "Text: The event will take place on 15-08-2023 and 23-09-2023.\n",
        "```\n",
        "\n"
      ]
    },
    {
      "cell_type": "code",
      "execution_count": 6,
      "id": "c2f9d8bf",
      "metadata": {
        "colab": {
          "base_uri": "https://localhost:8080/"
        },
        "id": "c2f9d8bf",
        "outputId": "59a4080c-fa68-41fb-b7cd-07f6d268ec6b"
      },
      "outputs": [
        {
          "output_type": "execute_result",
          "data": {
            "text/plain": [
              "['15-08-2023', '23-09-2023']"
            ]
          },
          "metadata": {},
          "execution_count": 6
        }
      ],
      "source": [
        "text_5 = \"\"\"\n",
        "The event will take place on 15-08-2023 and 23-09-2023.\n",
        "\"\"\"\n",
        "pattern_5 = r\"\\b(\\d{1,2}\\-\\d{1,2}\\-\\d{4})\\b\"\n",
        "\n",
        "dates = re.findall(pattern_5,text_5,re.MULTILINE)\n",
        "dates"
      ]
    },
    {
      "cell_type": "markdown",
      "id": "6b817815",
      "metadata": {
        "id": "6b817815"
      },
      "source": [
        "### Assignment 6: Extracting URLs\n",
        "\n",
        "**Raw Text:**\n",
        "Extract all URLs from a text that belong to Pakistani domains.\n",
        "\n",
        "**Example:**\n",
        "```\n",
        "Text: Visit http://www.example.pk or https://website.com.pk for more information.\n",
        "```\n",
        "\n"
      ]
    },
    {
      "cell_type": "code",
      "execution_count": 7,
      "id": "c2ba10ac",
      "metadata": {
        "colab": {
          "base_uri": "https://localhost:8080/"
        },
        "id": "c2ba10ac",
        "outputId": "21a34cc6-d971-4654-f370-6a91daf507d2"
      },
      "outputs": [
        {
          "output_type": "execute_result",
          "data": {
            "text/plain": [
              "['http://www.example.pk', 'https://website.com.pk']"
            ]
          },
          "metadata": {},
          "execution_count": 7
        }
      ],
      "source": [
        "text_6 = \"\"\"\n",
        "Visit http://www.example.pk or https://website.com.pk for more information.\n",
        "\"\"\"\n",
        "pattern_6 = r\"\\b([https://]+[\\w]+\\.[\\w]+.pk)\\b\"\n",
        "\n",
        "url_pk = re.findall(pattern_6, text_6, re.MULTILINE)\n",
        "url_pk"
      ]
    },
    {
      "cell_type": "markdown",
      "id": "7ff1dc07",
      "metadata": {
        "id": "7ff1dc07"
      },
      "source": [
        "### Assignment 7: Analyzing Currency\n",
        "\n",
        "**Raw Text:**\n",
        "Extract and analyze currency amounts in Pakistani Rupees (PKR) from a given text.\n",
        "\n",
        "**Example:**\n",
        "```\n",
        "Text: The product costs PKR 1500, while the deluxe version is priced at Rs. 2500.\n",
        "```\n",
        "\n"
      ]
    },
    {
      "cell_type": "code",
      "execution_count": 8,
      "id": "28769652",
      "metadata": {
        "colab": {
          "base_uri": "https://localhost:8080/"
        },
        "id": "28769652",
        "outputId": "b404762e-5b38-4e29-b21a-8b8a0d3e6129"
      },
      "outputs": [
        {
          "output_type": "execute_result",
          "data": {
            "text/plain": [
              "['1500', '2500']"
            ]
          },
          "metadata": {},
          "execution_count": 8
        }
      ],
      "source": [
        "text_7 = \"\"\"\n",
        "The product costs PKR 1500, while the deluxe version is priced at Rs. 2500.\n",
        "\"\"\"\n",
        "pattern_7 = r\"\\b(?:[PKRs]+\\.?\\s(\\d{4}))\"\n",
        "\n",
        "rupees = re.findall(pattern_7,text_7,re.MULTILINE)\n",
        "rupees"
      ]
    },
    {
      "cell_type": "markdown",
      "id": "651c8b5d",
      "metadata": {
        "id": "651c8b5d"
      },
      "source": [
        "### Assignment 8: Removing Punctuation\n",
        "\n",
        "**Raw Text:**\n",
        "Remove all punctuation marks from a text while preserving Urdu characters.\n",
        "\n",
        "**Example:**\n",
        "```\n",
        "Text: کیا! آپ, یہاں؟\n",
        "```\n",
        "\n"
      ]
    },
    {
      "cell_type": "code",
      "execution_count": 9,
      "id": "96350bf0",
      "metadata": {
        "colab": {
          "base_uri": "https://localhost:8080/"
        },
        "id": "96350bf0",
        "outputId": "d8cfe47f-1158-452e-c12e-a8e82aca40d5"
      },
      "outputs": [
        {
          "output_type": "execute_result",
          "data": {
            "text/plain": [
              "['کیا', 'آپ', 'یہاں']"
            ]
          },
          "metadata": {},
          "execution_count": 9
        }
      ],
      "source": [
        "text_8=\"\"\"\n",
        "کیا! آپ, یہاں؟\n",
        "\"\"\"\n",
        "pattern_8 = r\"\\b([^\\W]+)\"\n",
        "\n",
        "urdu_without_punctuation = re.findall(pattern_8,text_8,re.MULTILINE)\n",
        "urdu_without_punctuation"
      ]
    },
    {
      "cell_type": "markdown",
      "id": "8cc27684",
      "metadata": {
        "id": "8cc27684"
      },
      "source": [
        "### Assignment 9: Extracting City Names\n",
        "\n",
        "**Raw Text:**\n",
        "Extract names of Pakistani cities from a given text.\n",
        "\n",
        "**Example:**\n",
        "```\n",
        "Text: Lahore, Karachi, Islamabad, and Peshawar are major cities of Pakistan.\n",
        "```\n"
      ]
    },
    {
      "cell_type": "code",
      "execution_count": 10,
      "id": "a81035ed",
      "metadata": {
        "colab": {
          "base_uri": "https://localhost:8080/"
        },
        "id": "a81035ed",
        "outputId": "22d987e2-c314-45eb-e163-ee46ad9c22ca"
      },
      "outputs": [
        {
          "output_type": "execute_result",
          "data": {
            "text/plain": [
              "[('Lahore', 'Karachi', 'Islamabad', 'Peshawar')]"
            ]
          },
          "metadata": {},
          "execution_count": 10
        }
      ],
      "source": [
        "text_9 = \"\"\"\n",
        "Lahore, Karachi, Islamabad, and Peshawar are major cities of Pakistan.\n",
        "\"\"\"\n",
        "pattern_9 = r\"\\b(?:([\\w]+)\\,\\s([\\w]+)\\,\\s([\\w]+)\\,\\sand\\s([\\w]+))\\b\"\n",
        "\n",
        "city_pakistan = re.findall(pattern_9,text_9,re.MULTILINE)\n",
        "city_pakistan"
      ]
    },
    {
      "cell_type": "markdown",
      "id": "219b6c4c",
      "metadata": {
        "id": "219b6c4c"
      },
      "source": [
        "\n",
        "### Assignment 10: Analyzing Vehicle Numbers\n",
        "\n",
        "**Raw Text:**\n",
        "Identify and extract Pakistani vehicle registration numbers (e.g., ABC-123) from a text.\n",
        "\n",
        "**Example:**\n",
        "```\n",
        "Text: I saw a car with the number plate LEA-567 near the market.\n",
        "```\n",
        "\n"
      ]
    },
    {
      "cell_type": "code",
      "execution_count": 11,
      "id": "33e1e5ba",
      "metadata": {
        "colab": {
          "base_uri": "https://localhost:8080/"
        },
        "id": "33e1e5ba",
        "outputId": "24c808f7-3637-4234-e1ea-c3f418d20119"
      },
      "outputs": [
        {
          "output_type": "execute_result",
          "data": {
            "text/plain": [
              "['LEA-567']"
            ]
          },
          "metadata": {},
          "execution_count": 11
        }
      ],
      "source": [
        "text_10 = \"\"\"\n",
        "I saw a car with the number plate LEA-567 near the market.\n",
        "\"\"\"\n",
        "pattern_10 = r\"\\b(\\D{3}\\-\\d{3})\\b\"\n",
        "\n",
        "registeration_number = re.findall(pattern_10,text_10,re.MULTILINE)\n",
        "registeration_number"
      ]
    }
  ],
  "metadata": {
    "kernelspec": {
      "display_name": "Python 3 (ipykernel)",
      "language": "python",
      "name": "python3"
    },
    "language_info": {
      "codemirror_mode": {
        "name": "ipython",
        "version": 3
      },
      "file_extension": ".py",
      "mimetype": "text/x-python",
      "name": "python",
      "nbconvert_exporter": "python",
      "pygments_lexer": "ipython3",
      "version": "3.11.3"
    },
    "colab": {
      "provenance": []
    }
  },
  "nbformat": 4,
  "nbformat_minor": 5
}